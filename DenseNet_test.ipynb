{
 "cells": [
  {
   "cell_type": "code",
   "execution_count": 1,
   "metadata": {},
   "outputs": [],
   "source": [
    "import tensorflow as tf\n",
    "from tensorflow.keras.applications import DenseNet121\n",
    "from tensorflow.keras.models import Model\n",
    "from tensorflow.keras.layers import Dense, GlobalAveragePooling2D\n",
    "from tensorflow.keras.datasets import cifar10\n",
    "from tensorflow.keras.utils import to_categorical\n",
    "from tensorflow.keras.optimizers import Adam\n",
    "from sklearn.model_selection import train_test_split\n"
   ]
  },
  {
   "cell_type": "code",
   "execution_count": 2,
   "metadata": {},
   "outputs": [],
   "source": [
    "# Load CIFAR-10 dataset and preprocess the data\n",
    "(x_train, y_train), (x_test, y_test) = cifar10.load_data()\n",
    "x_train = x_train / 255.0\n",
    "x_test = x_test / 255.0\n",
    "y_train = to_categorical(y_train, num_classes=10)\n",
    "y_test = to_categorical(y_test, num_classes=10)\n",
    "\n",
    "\n",
    "x_train, x_val, y_train, y_val = train_test_split(x_train, y_train, test_size=0.1, random_state=42)\n"
   ]
  },
  {
   "cell_type": "code",
   "execution_count": 3,
   "metadata": {},
   "outputs": [
    {
     "name": "stdout",
     "output_type": "stream",
     "text": [
      "Epoch 1/20\n",
      "176/176 [==============================] - 68s 169ms/step - loss: 1.0148 - accuracy: 0.6717 - val_loss: 679.8358 - val_accuracy: 0.1270\n",
      "Epoch 2/20\n",
      "176/176 [==============================] - 29s 163ms/step - loss: 0.5515 - accuracy: 0.8161 - val_loss: 1.2875 - val_accuracy: 0.6922\n",
      "Epoch 3/20\n",
      "176/176 [==============================] - 27s 156ms/step - loss: 0.3963 - accuracy: 0.8666 - val_loss: 1.2724 - val_accuracy: 0.6898\n",
      "Epoch 4/20\n",
      "176/176 [==============================] - 27s 155ms/step - loss: 0.2904 - accuracy: 0.9022 - val_loss: 1.0795 - val_accuracy: 0.7974\n",
      "Epoch 5/20\n",
      "176/176 [==============================] - 28s 158ms/step - loss: 0.2257 - accuracy: 0.9230 - val_loss: 1.0359 - val_accuracy: 0.7890\n",
      "Epoch 6/20\n",
      "176/176 [==============================] - 28s 159ms/step - loss: 0.1749 - accuracy: 0.9387 - val_loss: 0.9707 - val_accuracy: 0.7770\n",
      "Epoch 7/20\n",
      "176/176 [==============================] - 27s 156ms/step - loss: 0.1458 - accuracy: 0.9508 - val_loss: 0.8641 - val_accuracy: 0.8036\n",
      "Epoch 8/20\n",
      "176/176 [==============================] - 28s 157ms/step - loss: 0.1267 - accuracy: 0.9558 - val_loss: 0.9744 - val_accuracy: 0.8044\n",
      "Epoch 9/20\n",
      "176/176 [==============================] - 29s 163ms/step - loss: 0.1162 - accuracy: 0.9612 - val_loss: 1.1001 - val_accuracy: 0.7836\n",
      "Epoch 10/20\n",
      "176/176 [==============================] - 29s 167ms/step - loss: 0.1059 - accuracy: 0.9668 - val_loss: 1.0301 - val_accuracy: 0.7798\n",
      "Epoch 11/20\n",
      "176/176 [==============================] - 28s 157ms/step - loss: 0.1033 - accuracy: 0.9696 - val_loss: 0.8356 - val_accuracy: 0.8212\n",
      "Epoch 12/20\n",
      "176/176 [==============================] - 27s 156ms/step - loss: 0.0825 - accuracy: 0.9714 - val_loss: 0.9749 - val_accuracy: 0.8038\n",
      "Epoch 13/20\n",
      "176/176 [==============================] - 28s 159ms/step - loss: 0.0817 - accuracy: 0.9738 - val_loss: 11.2126 - val_accuracy: 0.7612\n",
      "Epoch 14/20\n",
      "176/176 [==============================] - 28s 161ms/step - loss: 0.0735 - accuracy: 0.9738 - val_loss: 1.2844 - val_accuracy: 0.7774\n",
      "Epoch 15/20\n",
      "176/176 [==============================] - 28s 160ms/step - loss: 0.0803 - accuracy: 0.9766 - val_loss: 1.0825 - val_accuracy: 0.8092\n",
      "Epoch 16/20\n",
      "176/176 [==============================] - 28s 160ms/step - loss: 0.0671 - accuracy: 0.9776 - val_loss: 0.8837 - val_accuracy: 0.8326\n",
      "Epoch 17/20\n",
      "176/176 [==============================] - 28s 157ms/step - loss: 0.0664 - accuracy: 0.9790 - val_loss: 1.1710 - val_accuracy: 0.8072\n",
      "Epoch 18/20\n",
      "176/176 [==============================] - 28s 159ms/step - loss: 0.0792 - accuracy: 0.9791 - val_loss: 2.9856 - val_accuracy: 0.7826\n",
      "Epoch 19/20\n",
      "176/176 [==============================] - 28s 159ms/step - loss: 0.0657 - accuracy: 0.9817 - val_loss: 1.2758 - val_accuracy: 0.8010\n",
      "Epoch 20/20\n",
      "176/176 [==============================] - 29s 166ms/step - loss: 0.0612 - accuracy: 0.9806 - val_loss: 1.3309 - val_accuracy: 0.8158\n"
     ]
    },
    {
     "data": {
      "text/plain": [
       "<keras.callbacks.History at 0x14df4c8be80>"
      ]
     },
     "execution_count": 3,
     "metadata": {},
     "output_type": "execute_result"
    }
   ],
   "source": [
    "# Define the DenseNet model for fine-tuning\n",
    "base_model = DenseNet121(include_top=False, weights='imagenet', input_shape=(32, 32, 3))\n",
    "x = base_model.output\n",
    "x = GlobalAveragePooling2D()(x)\n",
    "x = Dense(256, activation='relu')(x)\n",
    "predictions = Dense(10, activation='softmax')(x)\n",
    "\n",
    "model = Model(inputs=base_model.input, outputs=predictions)\n",
    "\n",
    "# Freeze all layers of the pre-trained model except the last two dense layers\n",
    "# for layer in base_model.layers:\n",
    "#     layer.trainable = False\n",
    "\n",
    "# Compile the model\n",
    "model.compile(optimizer=\"rmsprop\", loss='categorical_crossentropy', metrics=['accuracy'])\n",
    "\n",
    "# Train the model using the validation set for monitoring\n",
    "batch_size = 256\n",
    "epochs = 20\n",
    "model.fit(x_train, y_train, batch_size=batch_size, epochs=epochs, validation_data=(x_val, y_val), verbose=1)"
   ]
  },
  {
   "cell_type": "code",
   "execution_count": 4,
   "metadata": {},
   "outputs": [
    {
     "name": "stdout",
     "output_type": "stream",
     "text": [
      "40/40 [==============================] - 4s 40ms/step - loss: 1.2768 - accuracy: 0.8016\n",
      "Test Loss: 1.2768080234527588\n",
      "Test Accuracy: 0.8015999794006348\n"
     ]
    }
   ],
   "source": [
    "# Evaluate the model on the test set\n",
    "test_loss, test_accuracy = model.evaluate(x_test, y_test, batch_size=batch_size)\n",
    "print(\"Test Loss:\", test_loss)\n",
    "print(\"Test Accuracy:\", test_accuracy)"
   ]
  }
 ],
 "metadata": {
  "kernelspec": {
   "display_name": "tf",
   "language": "python",
   "name": "python3"
  },
  "language_info": {
   "codemirror_mode": {
    "name": "ipython",
    "version": 3
   },
   "file_extension": ".py",
   "mimetype": "text/x-python",
   "name": "python",
   "nbconvert_exporter": "python",
   "pygments_lexer": "ipython3",
   "version": "3.9.17"
  },
  "orig_nbformat": 4
 },
 "nbformat": 4,
 "nbformat_minor": 2
}
