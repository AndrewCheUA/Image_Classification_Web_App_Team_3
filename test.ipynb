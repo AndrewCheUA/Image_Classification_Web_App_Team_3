{
 "cells": [
  {
   "cell_type": "code",
   "execution_count": 17,
   "metadata": {},
   "outputs": [],
   "source": [
    "import tensorflow as tf\n",
    "from tensorflow import keras\n",
    "from tensorflow.keras.applications import EfficientNetB0\n",
    "from tensorflow.keras.models import Model\n",
    "from tensorflow.keras.layers import Dense, GlobalAveragePooling2D, Rescaling\n",
    "from tensorflow.keras.datasets import cifar10\n",
    "from tensorflow.keras.utils import to_categorical\n",
    "from tensorflow.keras.optimizers import Adam\n",
    "from tensorflow.keras.preprocessing.image import ImageDataGenerator\n"
   ]
  },
  {
   "cell_type": "code",
   "execution_count": 18,
   "metadata": {},
   "outputs": [],
   "source": [
    "# Load CIFAR-10 dataset and preprocess the data\n",
    "(x_train, y_train), (x_test, y_test) = cifar10.load_data()\n",
    "x_train = x_train / 255.0\n",
    "x_test = x_test / 255.0\n",
    "y_train = to_categorical(y_train, num_classes=10)\n",
    "y_test = to_categorical(y_test, num_classes=10)\n",
    "\n",
    "# Split the training set into training and validation sets\n",
    "from sklearn.model_selection import train_test_split\n",
    "x_train, x_val, y_train, y_val = train_test_split(x_train, y_train, test_size=0.1, random_state=42)\n"
   ]
  },
  {
   "cell_type": "code",
   "execution_count": 19,
   "metadata": {},
   "outputs": [],
   "source": [
    "# Define the EfficientNetB0 model for fine-tuning\n",
    "base_model = EfficientNetB0(include_top=False, weights='imagenet', input_shape=(32, 32, 3))\n",
    "# x = GlobalAveragePooling2D()(base_model.output)\n",
    "# x = Dense(256, activation='relu')(x)\n",
    "# predictions = Dense(10, activation='softmax')(x)\n",
    "\n",
    "# model = Model(inputs=base_model.input, outputs=predictions)\n",
    "\n",
    "# # Freeze all layers of the pre-trained model except the last two dense layers\n",
    "# # for layer in base_model.layers:\n",
    "# #     layer.trainable = False\n",
    "\n",
    "# # Compile the model\n",
    "# model.compile(optimizer=Adam(learning_rate=0.001), loss='categorical_crossentropy', metrics=['accuracy'])\n",
    "\n",
    "# # Train the model using the validation set for monitoring\n",
    "# # Train the model using the validation set for monitoring\n",
    "# batch_size = 256\n",
    "# epochs = 20\n",
    "# model.fit(x_train, y_train, batch_size=batch_size, epochs=epochs, validation_data=(x_val, y_val), verbose=1)\n"
   ]
  },
  {
   "cell_type": "code",
   "execution_count": 20,
   "metadata": {},
   "outputs": [
    {
     "name": "stdout",
     "output_type": "stream",
     "text": [
      "Epoch 1/20\n",
      "176/176 [==============================] - 21s 71ms/step - loss: 0.2661 - accuracy: 0.4212 - val_loss: 0.4104 - val_accuracy: 0.1038\n",
      "Epoch 2/20\n",
      "176/176 [==============================] - 12s 68ms/step - loss: 0.1830 - accuracy: 0.5986 - val_loss: 0.4208 - val_accuracy: 0.1172\n",
      "Epoch 3/20\n",
      "176/176 [==============================] - 12s 68ms/step - loss: 0.1514 - accuracy: 0.6742 - val_loss: 0.3887 - val_accuracy: 0.1230\n",
      "Epoch 4/20\n",
      "176/176 [==============================] - 11s 62ms/step - loss: 0.1287 - accuracy: 0.7303 - val_loss: 0.3989 - val_accuracy: 0.0978\n",
      "Epoch 5/20\n",
      "176/176 [==============================] - 11s 62ms/step - loss: 0.1107 - accuracy: 0.7713 - val_loss: 0.5364 - val_accuracy: 0.1266\n",
      "Epoch 6/20\n",
      "176/176 [==============================] - 11s 63ms/step - loss: 0.0947 - accuracy: 0.8068 - val_loss: 0.4373 - val_accuracy: 0.1514\n",
      "Epoch 7/20\n",
      "176/176 [==============================] - 11s 61ms/step - loss: 0.0804 - accuracy: 0.8402 - val_loss: 0.6022 - val_accuracy: 0.1116\n",
      "Epoch 8/20\n",
      "176/176 [==============================] - 11s 62ms/step - loss: 0.0664 - accuracy: 0.8745 - val_loss: 0.4079 - val_accuracy: 0.1860\n",
      "Epoch 9/20\n",
      "176/176 [==============================] - 11s 63ms/step - loss: 0.0560 - accuracy: 0.8930 - val_loss: 0.4672 - val_accuracy: 0.3494\n",
      "Epoch 10/20\n",
      "176/176 [==============================] - 11s 63ms/step - loss: 0.0464 - accuracy: 0.9155 - val_loss: 0.5831 - val_accuracy: 0.1152\n",
      "Epoch 11/20\n",
      "176/176 [==============================] - 11s 62ms/step - loss: 0.0395 - accuracy: 0.9317 - val_loss: 0.5707 - val_accuracy: 0.1338\n",
      "Epoch 12/20\n",
      "176/176 [==============================] - 11s 61ms/step - loss: 0.0337 - accuracy: 0.9422 - val_loss: 0.5201 - val_accuracy: 0.2076\n",
      "Epoch 13/20\n",
      "176/176 [==============================] - 11s 61ms/step - loss: 0.0293 - accuracy: 0.9518 - val_loss: 0.7328 - val_accuracy: 0.1372\n",
      "Epoch 14/20\n",
      "176/176 [==============================] - 17s 99ms/step - loss: 0.0254 - accuracy: 0.9580 - val_loss: 0.6137 - val_accuracy: 0.1188\n",
      "Epoch 15/20\n",
      "176/176 [==============================] - 47s 269ms/step - loss: 0.0221 - accuracy: 0.9644 - val_loss: 0.4380 - val_accuracy: 0.4564\n",
      "Epoch 16/20\n",
      "176/176 [==============================] - 17s 96ms/step - loss: 0.0204 - accuracy: 0.9676 - val_loss: 1.0123 - val_accuracy: 0.1552\n",
      "Epoch 17/20\n",
      "176/176 [==============================] - 10s 55ms/step - loss: 0.0181 - accuracy: 0.9710 - val_loss: 0.8458 - val_accuracy: 0.2036\n",
      "Epoch 18/20\n",
      "176/176 [==============================] - 10s 59ms/step - loss: 0.0176 - accuracy: 0.9726 - val_loss: 0.5961 - val_accuracy: 0.2410\n",
      "Epoch 19/20\n",
      "176/176 [==============================] - 10s 59ms/step - loss: 0.0163 - accuracy: 0.9743 - val_loss: 0.6756 - val_accuracy: 0.1858\n",
      "Epoch 20/20\n",
      "176/176 [==============================] - 11s 60ms/step - loss: 0.0154 - accuracy: 0.9759 - val_loss: 0.5666 - val_accuracy: 0.1906\n"
     ]
    },
    {
     "data": {
      "text/plain": [
       "<keras.callbacks.History at 0x1fae1bacee0>"
      ]
     },
     "execution_count": 20,
     "metadata": {},
     "output_type": "execute_result"
    }
   ],
   "source": [
    "model = keras.models.Sequential()\n",
    "model.add(base_model)\n",
    "model.add(keras.layers.Flatten())\n",
    "model.add(Dense(256, activation='relu'))\n",
    "model.add(Dense(10, activation='softmax'))\n",
    "model.compile(optimizer='adamax', loss='binary_crossentropy', metrics=['accuracy'])\n",
    "\n",
    "# Train the model using the validation set for monitoring\n",
    "batch_size = 256\n",
    "epochs = 20\n",
    "model.fit(x_train, y_train, batch_size=batch_size, epochs=epochs, validation_data=(x_val, y_val), verbose=1)"
   ]
  },
  {
   "cell_type": "code",
   "execution_count": 21,
   "metadata": {},
   "outputs": [
    {
     "name": "stdout",
     "output_type": "stream",
     "text": [
      "40/40 [==============================] - 1s 17ms/step - loss: 0.5731 - accuracy: 0.1952\n",
      "Test Loss: 0.5731436610221863\n",
      "Test Accuracy: 0.19519999623298645\n"
     ]
    }
   ],
   "source": [
    "# Evaluate the model on the test set\n",
    "test_loss, test_accuracy = model.evaluate(x_test, y_test, batch_size=batch_size)\n",
    "print(\"Test Loss:\", test_loss)\n",
    "print(\"Test Accuracy:\", test_accuracy)"
   ]
  }
 ],
 "metadata": {
  "kernelspec": {
   "display_name": "team3",
   "language": "python",
   "name": "python3"
  },
  "language_info": {
   "codemirror_mode": {
    "name": "ipython",
    "version": 3
   },
   "file_extension": ".py",
   "mimetype": "text/x-python",
   "name": "python",
   "nbconvert_exporter": "python",
   "pygments_lexer": "ipython3",
   "version": "3.9.17"
  },
  "orig_nbformat": 4
 },
 "nbformat": 4,
 "nbformat_minor": 2
}
