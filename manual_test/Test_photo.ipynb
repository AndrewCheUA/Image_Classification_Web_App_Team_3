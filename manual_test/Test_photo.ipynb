{
  "cells": [
    {
      "cell_type": "code",
      "execution_count": 7,
      "metadata": {
        "id": "UDh9ctJfQNIm"
      },
      "outputs": [],
      "source": [
        "from tensorflow.keras.models import load_model\n",
        "import matplotlib.pyplot as plt\n",
        "\n",
        "model = load_model('trained_model.h5')"
      ]
    },
    {
      "cell_type": "code",
      "execution_count": 8,
      "metadata": {
        "id": "RZumZIQZPrU2"
      },
      "outputs": [],
      "source": [
        "from PIL import Image\n",
        "import numpy as np\n",
        "\n",
        "test_image = Image.open(\"Untitled.jpg\")\n",
        "\n",
        "x=type(test_image)\n",
        "\n",
        "target_size = (32, 32)\n",
        "test_image = test_image.resize(target_size)\n",
        "\n",
        "image_array = np.array(test_image)\n",
        "\n",
        "image_array = image_array / 255.0\n",
        "\n",
        "input_image = np.expand_dims(image_array, axis=0)"
      ]
    },
    {
      "cell_type": "code",
      "execution_count": 9,
      "metadata": {
        "colab": {
          "base_uri": "https://localhost:8080/"
        },
        "id": "8ZYX4t6MZsI4",
        "outputId": "b99b7453-79e1-441e-abde-9842b11e48e1"
      },
      "outputs": [
        {
          "name": "stdout",
          "output_type": "stream",
          "text": [
            "1/1 [==============================] - 2s 2s/step\n"
          ]
        }
      ],
      "source": [
        "predictions = model.predict(input_image)"
      ]
    },
    {
      "cell_type": "code",
      "execution_count": 10,
      "metadata": {
        "colab": {
          "base_uri": "https://localhost:8080/"
        },
        "id": "CspopgSJQxlP",
        "outputId": "1c40fbf6-e41a-4b1d-8e75-e010998f3c4c"
      },
      "outputs": [
        {
          "name": "stdout",
          "output_type": "stream",
          "text": [
            "Predicted Class: bird\n",
            "<class 'PIL.JpegImagePlugin.JpegImageFile'>\n"
          ]
        }
      ],
      "source": [
        "cifar10_classes = [\n",
        "    'airplane', 'automobile', 'bird', 'cat', 'deer',\n",
        "    'dog', 'frog', 'horse', 'ship', 'truck'\n",
        "]\n",
        "\n",
        "predicted_class_index = np.argmax(predictions)\n",
        "predicted_class_label = cifar10_classes[predicted_class_index]\n",
        "print(\"Predicted Class:\", predicted_class_label)\n",
        "print(x)\n"
      ]
    },
    {
      "cell_type": "code",
      "execution_count": 11,
      "metadata": {
        "colab": {
          "base_uri": "https://localhost:8080/",
          "height": 428
        },
        "id": "DyxEGcshZ6eR",
        "outputId": "9cd19738-e44d-410d-b8e5-0be0fe84367a"
      },
      "outputs": [
        {
          "data": {
            "image/png": "[encoded data removed]",
            "text/plain": [
              "<Figure size 640x480 with 1 Axes>"
            ]
          },
          "metadata": {},
          "output_type": "display_data"
        }
      ],
      "source": [
        "\n",
        "plt.imshow(test_image)\n",
        "plt.title(f\"Predicted Class: {predicted_class_label}\")\n",
        "plt.axis('off')\n",
        "plt.show()"
      ]
    }
  ],
  "metadata": {
    "colab": {
      "provenance": []
    },
    "kernelspec": {
      "display_name": "Python 3",
      "name": "python3"
    },
    "language_info": {
      "codemirror_mode": {
        "name": "ipython",
        "version": 3
      },
      "file_extension": ".py",
      "mimetype": "text/x-python",
      "name": "python",
      "nbconvert_exporter": "python",
      "pygments_lexer": "ipython3",
      "version": "3.9.17"
    }
  },
  "nbformat": 4,
  "nbformat_minor": 0
}
