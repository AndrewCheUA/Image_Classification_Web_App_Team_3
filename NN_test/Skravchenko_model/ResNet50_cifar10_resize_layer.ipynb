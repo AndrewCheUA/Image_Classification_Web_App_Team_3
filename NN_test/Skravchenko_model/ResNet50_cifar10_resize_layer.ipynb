{
 "nbformat": 4,
 "nbformat_minor": 0,
 "metadata": {
  "colab": {
   "provenance": []
  },
  "kernelspec": {
   "name": "python3",
   "display_name": "Python 3"
  },
  "language_info": {
   "name": "python"
  }
 },
 "cells": [
  {
   "cell_type": "code",
   "source": [
    "!pip install keras_preprocessing"
   ],
   "metadata": {
    "colab": {
     "base_uri": "https://localhost:8080/"
    },
    "id": "X6GXxbwZ1iVg",
    "outputId": "759fd9d6-0128-4ad1-bc32-fb422c412165",
    "pycharm": {
     "name": "#%%\n"
    }
   },
   "execution_count": 1,
   "outputs": [
    {
     "output_type": "stream",
     "name": "stdout",
     "text": [
      "Collecting keras_preprocessing\n",
      "  Downloading Keras_Preprocessing-1.1.2-py2.py3-none-any.whl (42 kB)\n",
      "\u001B[?25l     \u001B[90m━━━━━━━━━━━━━━━━━━━━━━━━━━━━━━━━━━━━━━━━\u001B[0m \u001B[32m0.0/42.6 kB\u001B[0m \u001B[31m?\u001B[0m eta \u001B[36m-:--:--\u001B[0m\r\u001B[2K     \u001B[91m━━━━━━━━━━━━━━━━━━━━━━━━━━━━━━━━━━━━━━\u001B[0m\u001B[90m╺\u001B[0m\u001B[90m━\u001B[0m \u001B[32m41.0/42.6 kB\u001B[0m \u001B[31m1.3 MB/s\u001B[0m eta \u001B[36m0:00:01\u001B[0m\r\u001B[2K     \u001B[90m━━━━━━━━━━━━━━━━━━━━━━━━━━━━━━━━━━━━━━━\u001B[0m \u001B[32m42.6/42.6 kB\u001B[0m \u001B[31m856.4 kB/s\u001B[0m eta \u001B[36m0:00:00\u001B[0m\n",
      "\u001B[?25hRequirement already satisfied: numpy>=1.9.1 in /usr/local/lib/python3.10/dist-packages (from keras_preprocessing) (1.22.4)\n",
      "Requirement already satisfied: six>=1.9.0 in /usr/local/lib/python3.10/dist-packages (from keras_preprocessing) (1.16.0)\n",
      "Installing collected packages: keras_preprocessing\n",
      "Successfully installed keras_preprocessing-1.1.2\n"
     ]
    }
   ]
  },
  {
   "cell_type": "code",
   "execution_count": 13,
   "metadata": {
    "id": "c8Cc4iWxFne5",
    "pycharm": {
     "name": "#%%\n"
    }
   },
   "outputs": [],
   "source": [
    "import json\n",
    "\n",
    "from keras.callbacks import ModelCheckpoint, EarlyStopping\n",
    "from keras_preprocessing.image import ImageDataGenerator\n",
    "from tensorflow import keras\n",
    "import matplotlib.pyplot as plt\n",
    "from keras import Input\n",
    "from keras.applications import ResNet50\n",
    "from keras.applications.resnet import preprocess_input\n",
    "from keras.datasets import cifar10\n",
    "from keras.utils import to_categorical\n",
    "from keras.layers import Flatten, Dense, Dropout, BatchNormalization, UpSampling2D, GlobalAveragePooling2D\n",
    "from keras.models import Sequential\n",
    "from keras.optimizers import Adam"
   ]
  },
  {
   "cell_type": "code",
   "source": [
    "# define hyperparameters\n",
    "NUM_CLASSES = 10\n",
    "EPOCH = 5\n",
    "BATCH_SIZE = 128\n",
    "OPTIMIZER = Adam\n",
    "LEARNING_RATE = 0.0001\n",
    "LOSS = 'categorical_crossentropy'\n",
    "METRICS = ['accuracy']\n",
    "# resize\n",
    "img_rows = img_cols = 32\n",
    "channels = 3\n",
    "SCALE = 7"
   ],
   "metadata": {
    "id": "af4lpwIQ0ERS",
    "pycharm": {
     "name": "#%%\n"
    }
   },
   "execution_count": 3,
   "outputs": []
  },
  {
   "cell_type": "code",
   "source": [
    "#load data\n",
    "(X_train, y_train), (X_test, y_test) = cifar10.load_data()"
   ],
   "metadata": {
    "id": "Bb0NE_SOFrx0",
    "colab": {
     "base_uri": "https://localhost:8080/"
    },
    "outputId": "3e97b0f1-c210-4ea4-b113-3cd2b97924e0",
    "pycharm": {
     "name": "#%%\n"
    }
   },
   "execution_count": 4,
   "outputs": [
    {
     "output_type": "stream",
     "name": "stdout",
     "text": [
      "Downloading data from https://www.cs.toronto.edu/~kriz/cifar-10-python.tar.gz\n",
      "170498071/170498071 [==============================] - 6s 0us/step\n"
     ]
    }
   ]
  },
  {
   "cell_type": "code",
   "source": [
    "# set up image augmentation\n",
    "datagen = ImageDataGenerator(\n",
    "    rotation_range=15,\n",
    "    horizontal_flip=True,\n",
    "    width_shift_range=0.15,\n",
    "    height_shift_range=0.15,\n",
    "    zoom_range=0.3\n",
    ")"
   ],
   "metadata": {
    "id": "LcAVYtnS0jtq",
    "pycharm": {
     "name": "#%%\n"
    }
   },
   "execution_count": 5,
   "outputs": []
  },
  {
   "cell_type": "code",
   "source": [
    "# data\n",
    "X_train = X_train.astype('float32')\n",
    "X_test = X_test.astype('float32')"
   ],
   "metadata": {
    "id": "IgtYmicZ0NdR",
    "pycharm": {
     "name": "#%%\n"
    }
   },
   "execution_count": 6,
   "outputs": []
  },
  {
   "cell_type": "code",
   "source": [
    "# preprocessing data for ResNet50\n",
    "X_train = preprocess_input(X_train)\n",
    "X_test = preprocess_input(X_test)"
   ],
   "metadata": {
    "id": "a4xG2d1x0N0x",
    "pycharm": {
     "name": "#%%\n"
    }
   },
   "execution_count": 7,
   "outputs": []
  },
  {
   "cell_type": "code",
   "source": [
    "# labels\n",
    "y_train = to_categorical(y_train, NUM_CLASSES)\n",
    "y_test = to_categorical(y_test, NUM_CLASSES)"
   ],
   "metadata": {
    "id": "P_-h898VFu4k",
    "pycharm": {
     "name": "#%%\n"
    }
   },
   "execution_count": 8,
   "outputs": []
  },
  {
   "cell_type": "code",
   "source": [
    "# load ResNet50\n",
    "resnet50_base = ResNet50(weights='imagenet', include_top=False, input_shape=(img_rows*SCALE, img_cols*SCALE, 3))\n",
    "resnet50_base.trainable = True"
   ],
   "metadata": {
    "id": "t5LrfmMw0WbN",
    "pycharm": {
     "name": "#%%\n"
    }
   },
   "execution_count": 10,
   "outputs": []
  },
  {
   "cell_type": "code",
   "source": [
    "# frize layouts\n",
    "for layer in resnet50_base.layers:\n",
    "    layer.trainable = False"
   ],
   "metadata": {
    "id": "enqahzBqFvWG",
    "pycharm": {
     "name": "#%%\n"
    }
   },
   "execution_count": 11,
   "outputs": []
  },
  {
   "cell_type": "code",
   "source": [
    "image_input = Input(shape=(img_rows, img_cols, 3))"
   ],
   "metadata": {
    "id": "fQWvoSyZX2iV",
    "pycharm": {
     "name": "#%%\n"
    }
   },
   "execution_count": 14,
   "outputs": []
  },
  {
   "cell_type": "code",
   "source": [
    "# add layouts for learning\n",
    "addtrain_model = Sequential([\n",
    "    image_input,\n",
    "    UpSampling2D(size=(SCALE, SCALE)),\n",
    "    resnet50_base,\n",
    "    GlobalAveragePooling2D(name='avg_pool'),\n",
    "    Flatten(),\n",
    "    Dense(512, activation=\"relu\"),\n",
    "    BatchNormalization(),\n",
    "    Dropout(0.2),\n",
    "    Dense(NUM_CLASSES, activation=\"softmax\"),\n",
    "])"
   ],
   "metadata": {
    "id": "q7814OBeFvfF",
    "pycharm": {
     "name": "#%%\n"
    }
   },
   "execution_count": 15,
   "outputs": []
  },
  {
   "cell_type": "code",
   "source": [
    "# compile model\n",
    "addtrain_model.compile(\n",
    "    optimizer=OPTIMIZER(learning_rate=LEARNING_RATE),\n",
    "    loss=LOSS,\n",
    "    metrics=METRICS)\n",
    "\n",
    "addtrain_model.summary()\n"
   ],
   "metadata": {
    "colab": {
     "base_uri": "https://localhost:8080/"
    },
    "id": "WlRmao-TFvnk",
    "outputId": "89280917-f033-4b4c-a026-8fb7fb9642b7",
    "pycharm": {
     "name": "#%%\n"
    }
   },
   "execution_count": 16,
   "outputs": [
    {
     "output_type": "stream",
     "name": "stdout",
     "text": [
      "Model: \"sequential\"\n",
      "_________________________________________________________________\n",
      " Layer (type)                Output Shape              Param #   \n",
      "=================================================================\n",
      " up_sampling2d (UpSampling2D  (None, 224, 224, 3)      0         \n",
      " )                                                               \n",
      "                                                                 \n",
      " resnet50 (Functional)       (None, 7, 7, 2048)        23587712  \n",
      "                                                                 \n",
      " avg_pool (GlobalAveragePool  (None, 2048)             0         \n",
      " ing2D)                                                          \n",
      "                                                                 \n",
      " flatten (Flatten)           (None, 2048)              0         \n",
      "                                                                 \n",
      " dense (Dense)               (None, 512)               1049088   \n",
      "                                                                 \n",
      " batch_normalization (BatchN  (None, 512)              2048      \n",
      " ormalization)                                                   \n",
      "                                                                 \n",
      " dropout (Dropout)           (None, 512)               0         \n",
      "                                                                 \n",
      " dense_1 (Dense)             (None, 10)                5130      \n",
      "                                                                 \n",
      "=================================================================\n",
      "Total params: 24,643,978\n",
      "Trainable params: 1,055,242\n",
      "Non-trainable params: 23,588,736\n",
      "_________________________________________________________________\n"
     ]
    }
   ]
  },
  {
   "cell_type": "code",
   "source": [
    "# add callbacks\n",
    "checkpoint = ModelCheckpoint(\"cifar10_best_result1.h5\", save_best_only=True)\n",
    "early_stop = EarlyStopping(\n",
    "    monitor=\"val_loss\",\n",
    "    min_delta=0,\n",
    "    patience=5,\n",
    "    verbose=0,\n",
    "    mode=\"auto\",\n",
    "    baseline=None,\n",
    "    restore_best_weights=False\n",
    ")"
   ],
   "metadata": {
    "id": "UV3FTwWq2JAm",
    "pycharm": {
     "name": "#%%\n"
    }
   },
   "execution_count": 17,
   "outputs": []
  },
  {
   "cell_type": "code",
   "source": [
    "# train with image augmentation\n",
    "history = addtrain_model.fit(datagen.flow(X_train, y_train, batch_size=BATCH_SIZE),\n",
    "                             steps_per_epoch=len(X_train) / BATCH_SIZE, epochs=EPOCH,\n",
    "                             validation_data=(X_test, y_test), callbacks=[checkpoint, early_stop])"
   ],
   "metadata": {
    "colab": {
     "base_uri": "https://localhost:8080/"
    },
    "id": "ZaPJcQ4CFvwU",
    "outputId": "1b73dfbb-b994-4b01-c87a-6e293df272c1",
    "pycharm": {
     "name": "#%%\n"
    }
   },
   "execution_count": null,
   "outputs": [
    {
     "output_type": "stream",
     "name": "stdout",
     "text": [
      "Epoch 1/5\n",
      "  1/390 [..............................] - ETA: 3:28:59 - loss: 3.1689 - accuracy: 0.1016"
     ]
    }
   ]
  },
  {
   "cell_type": "code",
   "source": [
    "results = addtrain_model.evaluate(X_test, y_test)\n",
    "results"
   ],
   "metadata": {
    "id": "syHAJSlsF-lX",
    "pycharm": {
     "name": "#%%\n"
    }
   },
   "execution_count": null,
   "outputs": []
  },
  {
   "cell_type": "code",
   "source": [
    "# plotting function\n",
    "def plothist(hist):\n",
    "    plt.rcParams[\"figure.figsize\"] = (16, 8)\n",
    "    plt.plot(hist.history['accuracy'])\n",
    "    plt.plot(hist.history['val_accuracy'])\n",
    "    plt.title('Точність моделі')\n",
    "    plt.ylabel('Точність')\n",
    "    plt.xlabel('Епохи')\n",
    "    plt.legend(['навчання', 'тестування'], loc='upper left')\n",
    "    plt.grid()\n",
    "    plt.savefig('hystory.png')\n",
    "    plt.show()\n",
    "\n",
    "\n",
    "plothist(history)"
   ],
   "metadata": {
    "id": "IPRA2iCPF-3W",
    "pycharm": {
     "name": "#%%\n"
    }
   },
   "execution_count": null,
   "outputs": []
  },
  {
   "cell_type": "code",
   "source": [
    "history_dict = history.history\n",
    "loss_values = history_dict['loss']\n",
    "val_loss_values = history_dict['val_loss']\n",
    "\n",
    "epochs = range(1, len(history_dict['accuracy']) + 1)\n",
    "\n",
    "plt.rcParams[\"figure.figsize\"] = (16, 8)\n",
    "plt.plot(epochs, loss_values, 'go', label='Втрати на навчання')\n",
    "plt.plot(epochs, val_loss_values, 'g', label='Втрати на валідацію')\n",
    "plt.title('Втрати на навчання та валідацію')\n",
    "plt.xlabel('Епохи')\n",
    "plt.ylabel('Втрати')\n",
    "plt.legend()\n",
    "plt.grid()\n",
    "plt.savefig('Training and validation loss.png')\n",
    "plt.show()\n",
    "\n",
    "plt.plot(epochs, history_dict['accuracy'], 'go', label='Точність навчання')\n",
    "plt.plot(epochs, history_dict['val_accuracy'], 'g', label='Точність валідації')\n",
    "plt.title('Точність навчання та валідації')\n",
    "plt.xlabel('Епохи')\n",
    "plt.ylabel('Втрати')\n",
    "plt.legend()\n",
    "plt.grid()\n",
    "plt.savefig('Training and validation accuracy.png')\n",
    "plt.show()"
   ],
   "metadata": {
    "id": "3di8ogWWF_AH",
    "pycharm": {
     "name": "#%%\n"
    }
   },
   "execution_count": null,
   "outputs": []
  },
  {
   "cell_type": "code",
   "source": [
    "addtrain_model.save(\"cifar10_best1.h5\")"
   ],
   "metadata": {
    "id": "8DtVfY9L06XM",
    "pycharm": {
     "name": "#%%\n"
    }
   },
   "execution_count": null,
   "outputs": []
  },
  {
   "cell_type": "code",
   "source": [
    "addtrain_model.save(\"cifar10_best1.hdf5\")"
   ],
   "metadata": {
    "id": "46_0TEc706hz",
    "pycharm": {
     "name": "#%%\n"
    }
   },
   "execution_count": null,
   "outputs": []
  },
  {
   "cell_type": "code",
   "source": [
    "addtrain_model.save_weights(\"cifar10_best1.h5\")"
   ],
   "metadata": {
    "id": "x1UdBR_F06sH",
    "pycharm": {
     "name": "#%%\n"
    }
   },
   "execution_count": null,
   "outputs": []
  },
  {
   "cell_type": "code",
   "source": [
    "# save hyperparameters\n",
    "params = {\n",
    "    'dataset': 'cifar10',\n",
    "    'model_name': 'ResNet50',\n",
    "    'resize': f'32x32x3 to {img_rows}x{img_cols}x3',\n",
    "    'trainable_model_layers': '10',\n",
    "    'additional_layers': ['Flatten', 'Dense(512, activation=\"relu\")', 'BatchNormalization()', 'Dropout(0.2)',\n",
    "                          'Dense(num_classes, activation=\"softmax\")'],\n",
    "    'num_classes': NUM_CLASSES,\n",
    "    'epochs': EPOCH,\n",
    "    'batch_size': BATCH_SIZE,\n",
    "    'optimizer': f'{OPTIMIZER}',\n",
    "    'learning_rate': LEARNING_RATE,\n",
    "    'loss': LOSS,\n",
    "    'metrics': METRICS,\n",
    "    'hystory': history.history,\n",
    "    'model_test_acc': model_test_acc,\n",
    "    'model_train_acc': model_train_acc\n",
    "\n",
    "}\n",
    "\n",
    "# write to JSON\n",
    "json_string = json.dumps(params)\n",
    "with open('model_data.json', 'w') as f:\n",
    "    f.write(json_string)"
   ],
   "metadata": {
    "id": "RXScWv8i1Alx",
    "pycharm": {
     "name": "#%%\n"
    }
   },
   "execution_count": null,
   "outputs": []
  },
  {
   "cell_type": "code",
   "source": [],
   "metadata": {
    "id": "fqH97aF31AyS",
    "pycharm": {
     "name": "#%%\n"
    }
   },
   "execution_count": null,
   "outputs": []
  }
 ]
}