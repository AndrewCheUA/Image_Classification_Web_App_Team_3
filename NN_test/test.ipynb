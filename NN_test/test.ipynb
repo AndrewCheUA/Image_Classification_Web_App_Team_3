{
 "cells": [
  {
   "cell_type": "code",
   "execution_count": 29,
   "metadata": {},
   "outputs": [],
   "source": [
    "import tensorflow as tf\n",
    "from tensorflow.keras.datasets import cifar10\n",
    "from tensorflow.keras.applications import VGG19\n",
    "from tensorflow.keras.models import Model\n",
    "from tensorflow.keras.layers import Dense, Flatten, GlobalAveragePooling2D\n",
    "from tensorflow.keras.optimizers import Adam\n",
    "from tensorflow.keras.utils import to_categorical\n"
   ]
  },
  {
   "cell_type": "code",
   "execution_count": 30,
   "metadata": {},
   "outputs": [],
   "source": [
    "# Load the CIFAR-10 dataset\n",
    "(x_train, y_train), (x_test, y_test) = cifar10.load_data()\n",
    "\n",
    "# Normalize the pixel values to the range [0, 1]\n",
    "x_train = x_train.astype('float32') / 255.0\n",
    "x_test = x_test.astype('float32') / 255.0\n",
    "\n",
    "# One-hot encode the labels\n",
    "num_classes = 10\n",
    "y_train = to_categorical(y_train, num_classes)\n",
    "y_test = to_categorical(y_test, num_classes)\n"
   ]
  },
  {
   "cell_type": "code",
   "execution_count": 31,
   "metadata": {},
   "outputs": [
    {
     "name": "stdout",
     "output_type": "stream",
     "text": [
      "Downloading data from https://storage.googleapis.com/tensorflow/keras-applications/vgg19/vgg19_weights_tf_dim_ordering_tf_kernels_notop.h5\n",
      "80134624/80134624 [==============================] - 12s 0us/step\n"
     ]
    }
   ],
   "source": [
    "# Load the pre-trained VGG16 model without the top classification layers\n",
    "base_model = VGG19(weights='imagenet', include_top=False, input_shape=(32, 32, 3))\n"
   ]
  },
  {
   "cell_type": "code",
   "execution_count": 32,
   "metadata": {},
   "outputs": [],
   "source": [
    "# Add custom classification layers on top of the base model\n",
    "x = base_model.output\n",
    "x = GlobalAveragePooling2D()(x)\n",
    "x = Dense(512, activation='relu')(x)\n",
    "output = Dense(num_classes, activation='softmax')(x)\n",
    "\n",
    "# Create the transfer learning model\n",
    "transfer_model = Model(inputs=base_model.input, outputs=output)\n"
   ]
  },
  {
   "cell_type": "code",
   "execution_count": 33,
   "metadata": {},
   "outputs": [],
   "source": [
    "# Freeze the layers of the base model\n",
    "for layer in base_model.layers:\n",
    "    layer.trainable = False\n"
   ]
  },
  {
   "cell_type": "code",
   "execution_count": 34,
   "metadata": {},
   "outputs": [
    {
     "name": "stdout",
     "output_type": "stream",
     "text": [
      "Model: \"model_3\"\n",
      "_________________________________________________________________\n",
      " Layer (type)                Output Shape              Param #   \n"
     ]
    },
    {
     "name": "stdout",
     "output_type": "stream",
     "text": [
      "=================================================================\n",
      " input_5 (InputLayer)        [(None, 32, 32, 3)]       0         \n",
      "                                                                 \n",
      " block1_conv1 (Conv2D)       (None, 32, 32, 64)        1792      \n",
      "                                                                 \n",
      " block1_conv2 (Conv2D)       (None, 32, 32, 64)        36928     \n",
      "                                                                 \n",
      " block1_pool (MaxPooling2D)  (None, 16, 16, 64)        0         \n",
      "                                                                 \n",
      " block2_conv1 (Conv2D)       (None, 16, 16, 128)       73856     \n",
      "                                                                 \n",
      " block2_conv2 (Conv2D)       (None, 16, 16, 128)       147584    \n",
      "                                                                 \n",
      " block2_pool (MaxPooling2D)  (None, 8, 8, 128)         0         \n",
      "                                                                 \n",
      " block3_conv1 (Conv2D)       (None, 8, 8, 256)         295168    \n",
      "                                                                 \n",
      " block3_conv2 (Conv2D)       (None, 8, 8, 256)         590080    \n",
      "                                                                 \n",
      " block3_conv3 (Conv2D)       (None, 8, 8, 256)         590080    \n",
      "                                                                 \n",
      " block3_conv4 (Conv2D)       (None, 8, 8, 256)         590080    \n",
      "                                                                 \n",
      " block3_pool (MaxPooling2D)  (None, 4, 4, 256)         0         \n",
      "                                                                 \n",
      " block4_conv1 (Conv2D)       (None, 4, 4, 512)         1180160   \n",
      "                                                                 \n",
      " block4_conv2 (Conv2D)       (None, 4, 4, 512)         2359808   \n",
      "                                                                 \n",
      " block4_conv3 (Conv2D)       (None, 4, 4, 512)         2359808   \n",
      "                                                                 \n",
      " block4_conv4 (Conv2D)       (None, 4, 4, 512)         2359808   \n",
      "                                                                 \n",
      " block4_pool (MaxPooling2D)  (None, 2, 2, 512)         0         \n",
      "                                                                 \n",
      " block5_conv1 (Conv2D)       (None, 2, 2, 512)         2359808   \n",
      "                                                                 \n",
      " block5_conv2 (Conv2D)       (None, 2, 2, 512)         2359808   \n",
      "                                                                 \n",
      " block5_conv3 (Conv2D)       (None, 2, 2, 512)         2359808   \n",
      "                                                                 \n",
      " block5_conv4 (Conv2D)       (None, 2, 2, 512)         2359808   \n",
      "                                                                 \n",
      " block5_pool (MaxPooling2D)  (None, 1, 1, 512)         0         \n",
      "                                                                 \n",
      " global_average_pooling2d_2   (None, 512)              0         \n",
      " (GlobalAveragePooling2D)                                        \n",
      "                                                                 \n",
      " dense_6 (Dense)             (None, 512)               262656    \n",
      "                                                                 \n",
      " dense_7 (Dense)             (None, 10)                5130      \n",
      "                                                                 \n",
      "=================================================================\n",
      "Total params: 20,292,170\n",
      "Trainable params: 267,786\n",
      "Non-trainable params: 20,024,384\n",
      "_________________________________________________________________\n"
     ]
    }
   ],
   "source": [
    "# Compile the model\n",
    "transfer_model.compile(loss='categorical_crossentropy', optimizer=\"rmsprop\", metrics=['accuracy'])\n",
    "\n",
    "# Print the model summary to see the architecture\n",
    "transfer_model.summary()\n",
    "\n"
   ]
  },
  {
   "cell_type": "code",
   "execution_count": 35,
   "metadata": {},
   "outputs": [
    {
     "name": "stdout",
     "output_type": "stream",
     "text": [
      "Epoch 1/40\n",
      "391/391 [==============================] - 13s 26ms/step - loss: 1.4483 - accuracy: 0.4886 - val_loss: 1.3012 - val_accuracy: 0.5435\n",
      "Epoch 2/40\n",
      "391/391 [==============================] - 8s 22ms/step - loss: 1.2544 - accuracy: 0.5606 - val_loss: 1.2933 - val_accuracy: 0.5425\n",
      "Epoch 3/40\n",
      "391/391 [==============================] - 7s 19ms/step - loss: 1.1842 - accuracy: 0.5823 - val_loss: 1.2209 - val_accuracy: 0.5703\n",
      "Epoch 4/40\n",
      "391/391 [==============================] - 8s 19ms/step - loss: 1.1304 - accuracy: 0.6011 - val_loss: 1.1963 - val_accuracy: 0.5773\n",
      "Epoch 5/40\n",
      "391/391 [==============================] - 8s 19ms/step - loss: 1.0901 - accuracy: 0.6176 - val_loss: 1.1913 - val_accuracy: 0.5842\n",
      "Epoch 6/40\n",
      "391/391 [==============================] - 8s 19ms/step - loss: 1.0533 - accuracy: 0.6301 - val_loss: 1.1968 - val_accuracy: 0.5798\n",
      "Epoch 7/40\n",
      "391/391 [==============================] - 8s 20ms/step - loss: 1.0210 - accuracy: 0.6423 - val_loss: 1.1769 - val_accuracy: 0.5870\n",
      "Epoch 8/40\n",
      "391/391 [==============================] - 8s 20ms/step - loss: 0.9897 - accuracy: 0.6501 - val_loss: 1.1497 - val_accuracy: 0.6001\n",
      "Epoch 9/40\n",
      "391/391 [==============================] - 8s 20ms/step - loss: 0.9607 - accuracy: 0.6618 - val_loss: 1.1828 - val_accuracy: 0.5949\n",
      "Epoch 10/40\n",
      "391/391 [==============================] - 8s 19ms/step - loss: 0.9317 - accuracy: 0.6731 - val_loss: 1.1277 - val_accuracy: 0.6131\n",
      "Epoch 11/40\n",
      "391/391 [==============================] - 8s 20ms/step - loss: 0.9051 - accuracy: 0.6814 - val_loss: 1.1308 - val_accuracy: 0.6178\n",
      "Epoch 12/40\n",
      "391/391 [==============================] - 8s 20ms/step - loss: 0.8805 - accuracy: 0.6918 - val_loss: 1.1618 - val_accuracy: 0.6111\n",
      "Epoch 13/40\n",
      "391/391 [==============================] - 8s 20ms/step - loss: 0.8578 - accuracy: 0.6987 - val_loss: 1.1500 - val_accuracy: 0.6175\n",
      "Epoch 14/40\n",
      "391/391 [==============================] - 8s 21ms/step - loss: 0.8329 - accuracy: 0.7076 - val_loss: 1.1581 - val_accuracy: 0.6163\n",
      "Epoch 15/40\n",
      "391/391 [==============================] - 8s 20ms/step - loss: 0.8108 - accuracy: 0.7166 - val_loss: 1.1993 - val_accuracy: 0.6050\n",
      "Epoch 16/40\n",
      "391/391 [==============================] - 8s 20ms/step - loss: 0.7870 - accuracy: 0.7247 - val_loss: 1.2101 - val_accuracy: 0.6012\n",
      "Epoch 17/40\n",
      "391/391 [==============================] - 8s 20ms/step - loss: 0.7666 - accuracy: 0.7319 - val_loss: 1.2018 - val_accuracy: 0.6090\n",
      "Epoch 18/40\n",
      "391/391 [==============================] - 8s 20ms/step - loss: 0.7457 - accuracy: 0.7384 - val_loss: 1.1942 - val_accuracy: 0.6124\n",
      "Epoch 19/40\n",
      "391/391 [==============================] - 8s 20ms/step - loss: 0.7258 - accuracy: 0.7473 - val_loss: 1.1715 - val_accuracy: 0.6226\n",
      "Epoch 20/40\n",
      "391/391 [==============================] - 8s 21ms/step - loss: 0.7022 - accuracy: 0.7549 - val_loss: 1.2024 - val_accuracy: 0.6128\n",
      "Epoch 21/40\n",
      "391/391 [==============================] - 8s 21ms/step - loss: 0.6809 - accuracy: 0.7644 - val_loss: 1.3541 - val_accuracy: 0.5798\n",
      "Epoch 22/40\n",
      "391/391 [==============================] - 8s 20ms/step - loss: 0.6641 - accuracy: 0.7712 - val_loss: 1.2474 - val_accuracy: 0.6093\n",
      "Epoch 23/40\n",
      "391/391 [==============================] - 8s 21ms/step - loss: 0.6430 - accuracy: 0.7758 - val_loss: 1.3080 - val_accuracy: 0.6001\n",
      "Epoch 24/40\n",
      "391/391 [==============================] - 8s 20ms/step - loss: 0.6253 - accuracy: 0.7814 - val_loss: 1.3022 - val_accuracy: 0.5974\n",
      "Epoch 25/40\n",
      "391/391 [==============================] - 8s 20ms/step - loss: 0.6076 - accuracy: 0.7908 - val_loss: 1.2966 - val_accuracy: 0.6083\n",
      "Epoch 26/40\n",
      "391/391 [==============================] - 8s 20ms/step - loss: 0.5905 - accuracy: 0.7963 - val_loss: 1.3287 - val_accuracy: 0.6044\n",
      "Epoch 27/40\n",
      "391/391 [==============================] - 8s 21ms/step - loss: 0.5736 - accuracy: 0.8016 - val_loss: 1.3725 - val_accuracy: 0.6067\n",
      "Epoch 28/40\n",
      "391/391 [==============================] - 8s 21ms/step - loss: 0.5563 - accuracy: 0.8076 - val_loss: 1.3085 - val_accuracy: 0.6096\n",
      "Epoch 29/40\n",
      "391/391 [==============================] - 8s 21ms/step - loss: 0.5399 - accuracy: 0.8120 - val_loss: 1.3348 - val_accuracy: 0.6122\n",
      "Epoch 30/40\n",
      "391/391 [==============================] - 8s 20ms/step - loss: 0.5229 - accuracy: 0.8201 - val_loss: 1.3915 - val_accuracy: 0.6029\n",
      "Epoch 31/40\n",
      "391/391 [==============================] - 8s 21ms/step - loss: 0.5089 - accuracy: 0.8254 - val_loss: 1.4052 - val_accuracy: 0.6034\n",
      "Epoch 32/40\n",
      "391/391 [==============================] - 8s 20ms/step - loss: 0.4919 - accuracy: 0.8296 - val_loss: 1.3978 - val_accuracy: 0.6046\n",
      "Epoch 33/40\n",
      "391/391 [==============================] - 8s 20ms/step - loss: 0.4771 - accuracy: 0.8366 - val_loss: 1.4594 - val_accuracy: 0.5994\n",
      "Epoch 34/40\n",
      "391/391 [==============================] - 8s 21ms/step - loss: 0.4631 - accuracy: 0.8402 - val_loss: 1.4943 - val_accuracy: 0.5948\n",
      "Epoch 35/40\n",
      "391/391 [==============================] - 8s 21ms/step - loss: 0.4513 - accuracy: 0.8437 - val_loss: 1.4830 - val_accuracy: 0.6071\n",
      "Epoch 36/40\n",
      "391/391 [==============================] - 8s 21ms/step - loss: 0.4363 - accuracy: 0.8490 - val_loss: 1.5082 - val_accuracy: 0.6048\n",
      "Epoch 37/40\n",
      "391/391 [==============================] - 8s 21ms/step - loss: 0.4222 - accuracy: 0.8557 - val_loss: 1.6038 - val_accuracy: 0.5869\n",
      "Epoch 38/40\n",
      "391/391 [==============================] - 8s 21ms/step - loss: 0.4085 - accuracy: 0.8589 - val_loss: 1.5616 - val_accuracy: 0.6008\n",
      "Epoch 39/40\n",
      "391/391 [==============================] - 8s 21ms/step - loss: 0.3970 - accuracy: 0.8642 - val_loss: 1.5493 - val_accuracy: 0.6042\n",
      "Epoch 40/40\n",
      "391/391 [==============================] - 8s 21ms/step - loss: 0.3853 - accuracy: 0.8687 - val_loss: 1.5574 - val_accuracy: 0.6048\n"
     ]
    },
    {
     "data": {
      "text/plain": [
       "<keras.callbacks.History at 0x23be463c940>"
      ]
     },
     "execution_count": 35,
     "metadata": {},
     "output_type": "execute_result"
    }
   ],
   "source": [
    "# Start training the model on the CIFAR-10 dataset\n",
    "epochs = 40\n",
    "batch_size = 128\n",
    "transfer_model.fit(x_train, y_train, epochs=epochs, batch_size=batch_size, validation_data=(x_test, y_test))"
   ]
  },
  {
   "cell_type": "code",
   "execution_count": 36,
   "metadata": {},
   "outputs": [
    {
     "name": "stdout",
     "output_type": "stream",
     "text": [
      "Test loss: 1.5573316812515259\n",
      "Test accuracy: 0.6047999858856201\n"
     ]
    }
   ],
   "source": [
    "# Evaluate the model on the test set\n",
    "score = transfer_model.evaluate(x_test, y_test, verbose=0)\n",
    "print('Test loss:', score[0])\n",
    "print('Test accuracy:', score[1])\n"
   ]
  }
 ],
 "metadata": {
  "kernelspec": {
   "display_name": "team3",
   "language": "python",
   "name": "python3"
  },
  "language_info": {
   "codemirror_mode": {
    "name": "ipython",
    "version": 3
   },
   "file_extension": ".py",
   "mimetype": "text/x-python",
   "name": "python",
   "nbconvert_exporter": "python",
   "pygments_lexer": "ipython3",
   "version": "3.9.17"
  },
  "orig_nbformat": 4
 },
 "nbformat": 4,
 "nbformat_minor": 2
}
