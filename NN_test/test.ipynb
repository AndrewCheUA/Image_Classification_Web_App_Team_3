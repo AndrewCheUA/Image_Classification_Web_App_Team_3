{
 "cells": [
  {
   "cell_type": "code",
   "execution_count": 6,
   "metadata": {},
   "outputs": [],
   "source": [
    "import tensorflow as tf\n",
    "import numpy as np\n",
    "from tensorflow import keras\n",
    "from keras.utils import to_categorical\n",
    "from keras.datasets import cifar10\n",
    "from keras.applications.xception import Xception\n",
    "from keras.layers import Dense, Flatten, Dropout\n",
    "from keras.models import Sequential"
   ]
  },
  {
   "cell_type": "code",
   "execution_count": 7,
   "metadata": {},
   "outputs": [],
   "source": [
    "# Load CIFAR-10 dataset and preprocess the data\n",
    "(x_train, y_train), (x_test, y_test) = cifar10.load_data()\n",
    "x_train = x_train / 255.0\n",
    "x_test = x_test / 255.0\n",
    "y_train = to_categorical(y_train, num_classes=10)\n",
    "y_test = to_categorical(y_test, num_classes=10)\n",
    "\n",
    "# Split the training set into training and validation sets\n",
    "from sklearn.model_selection import train_test_split\n",
    "x_train, x_val, y_train, y_val = train_test_split(x_train, y_train, test_size=0.1, random_state=42)\n"
   ]
  },
  {
   "cell_type": "code",
   "execution_count": 8,
   "metadata": {},
   "outputs": [],
   "source": [
    "model_xception = Xception(weights='imagenet', include_top=False, input_shape=(71, 71, 3))\n"
   ]
  },
  {
   "cell_type": "code",
   "execution_count": 9,
   "metadata": {},
   "outputs": [],
   "source": [
    "inp = keras.Input(shape=(32, 32 ,3))\n",
    "inp_resized = keras.layers.Lambda(lambda X: tf.image.resize(X, (71, 71)))(inp)"
   ]
  },
  {
   "cell_type": "code",
   "execution_count": 10,
   "metadata": {},
   "outputs": [
    {
     "name": "stdout",
     "output_type": "stream",
     "text": [
      "Epoch 1/20\n",
      "1407/1407 [==============================] - 36s 17ms/step - loss: 0.1772 - accuracy: 0.6762 - val_loss: 0.1542 - val_accuracy: 0.6928\n",
      "Epoch 2/20\n",
      "1407/1407 [==============================] - 20s 15ms/step - loss: 0.1300 - accuracy: 0.7424 - val_loss: 0.1358 - val_accuracy: 0.7284\n",
      "Epoch 3/20\n",
      "1407/1407 [==============================] - 20s 15ms/step - loss: 0.1122 - accuracy: 0.7782 - val_loss: 0.1325 - val_accuracy: 0.7362\n",
      "Epoch 4/20\n",
      "1407/1407 [==============================] - 20s 14ms/step - loss: 0.0971 - accuracy: 0.8138 - val_loss: 0.1323 - val_accuracy: 0.7348\n",
      "Epoch 5/20\n",
      "1407/1407 [==============================] - 21s 15ms/step - loss: 0.0833 - accuracy: 0.8453 - val_loss: 0.1398 - val_accuracy: 0.7300\n",
      "Epoch 6/20\n",
      "1407/1407 [==============================] - 21s 15ms/step - loss: 0.0704 - accuracy: 0.8764 - val_loss: 0.1410 - val_accuracy: 0.7434\n",
      "Epoch 7/20\n",
      "1407/1407 [==============================] - 21s 15ms/step - loss: 0.0582 - accuracy: 0.9051 - val_loss: 0.1496 - val_accuracy: 0.7326\n",
      "Epoch 8/20\n",
      "1407/1407 [==============================] - 21s 15ms/step - loss: 0.0467 - accuracy: 0.9322 - val_loss: 0.1553 - val_accuracy: 0.7364\n",
      "Epoch 9/20\n",
      "1407/1407 [==============================] - 21s 15ms/step - loss: 0.0372 - accuracy: 0.9518 - val_loss: 0.1639 - val_accuracy: 0.7364\n",
      "Epoch 10/20\n",
      "1407/1407 [==============================] - 21s 15ms/step - loss: 0.0287 - accuracy: 0.9700 - val_loss: 0.1730 - val_accuracy: 0.7310\n",
      "Epoch 11/20\n",
      "1407/1407 [==============================] - 21s 15ms/step - loss: 0.0219 - accuracy: 0.9817 - val_loss: 0.1852 - val_accuracy: 0.7398\n",
      "Epoch 12/20\n",
      "1407/1407 [==============================] - 21s 15ms/step - loss: 0.0165 - accuracy: 0.9887 - val_loss: 0.1941 - val_accuracy: 0.7368\n",
      "Epoch 13/20\n",
      "1407/1407 [==============================] - 21s 15ms/step - loss: 0.0124 - accuracy: 0.9935 - val_loss: 0.2095 - val_accuracy: 0.7340\n",
      "Epoch 14/20\n",
      "1407/1407 [==============================] - 21s 15ms/step - loss: 0.0091 - accuracy: 0.9965 - val_loss: 0.2222 - val_accuracy: 0.7352\n",
      "Epoch 15/20\n",
      "1407/1407 [==============================] - 21s 15ms/step - loss: 0.0069 - accuracy: 0.9977 - val_loss: 0.2259 - val_accuracy: 0.7396\n",
      "Epoch 16/20\n",
      "1407/1407 [==============================] - 21s 15ms/step - loss: 0.0052 - accuracy: 0.9984 - val_loss: 0.2440 - val_accuracy: 0.7410\n",
      "Epoch 17/20\n",
      "1407/1407 [==============================] - 21s 15ms/step - loss: 0.0038 - accuracy: 0.9989 - val_loss: 0.2496 - val_accuracy: 0.7434\n",
      "Epoch 18/20\n",
      "1407/1407 [==============================] - 21s 15ms/step - loss: 0.0030 - accuracy: 0.9991 - val_loss: 0.2610 - val_accuracy: 0.7424\n",
      "Epoch 19/20\n",
      "1407/1407 [==============================] - 21s 15ms/step - loss: 0.0021 - accuracy: 0.9994 - val_loss: 0.2740 - val_accuracy: 0.7348\n",
      "Epoch 20/20\n",
      "1407/1407 [==============================] - 21s 15ms/step - loss: 0.0017 - accuracy: 0.9996 - val_loss: 0.2900 - val_accuracy: 0.7370\n"
     ]
    },
    {
     "data": {
      "text/plain": [
       "<keras.callbacks.History at 0x2d683574a90>"
      ]
     },
     "execution_count": 10,
     "metadata": {},
     "output_type": "execute_result"
    }
   ],
   "source": [
    "X = model_xception(inp_resized, training=False)\n",
    "X = Flatten()(X)\n",
    "X = Dense(500, activation='relu')(X)\n",
    "X - Dropout(0.3)(X)\n",
    "outputs = Dense(10, activation='softmax')(X)\n",
    "model = keras.Model(inp, outputs)\n",
    "model_xception.trainable = False\n",
    "model.compile(optimizer='adamax', loss='binary_crossentropy', metrics=['accuracy'])\n",
    "\n",
    "# Train the model using the validation set for monitoring\n",
    "batch_size = 32\n",
    "epochs = 20\n",
    "model.fit(x_train, y_train, batch_size=batch_size, epochs=epochs, validation_data=(x_val, y_val), verbose=1)"
   ]
  },
  {
   "cell_type": "code",
   "execution_count": 11,
   "metadata": {},
   "outputs": [
    {
     "name": "stdout",
     "output_type": "stream",
     "text": [
      "313/313 [==============================] - 4s 13ms/step - loss: 0.2946 - accuracy: 0.7329\n",
      "Test Loss: 0.294609010219574\n",
      "Test Accuracy: 0.7329000234603882\n"
     ]
    }
   ],
   "source": [
    "# Evaluate the model on the test set\n",
    "test_loss, test_accuracy = model.evaluate(x_test, y_test, batch_size=batch_size)\n",
    "print(\"Test Loss:\", test_loss)\n",
    "print(\"Test Accuracy:\", test_accuracy)"
   ]
  }
 ],
 "metadata": {
  "kernelspec": {
   "display_name": "team3",
   "language": "python",
   "name": "python3"
  },
  "language_info": {
   "codemirror_mode": {
    "name": "ipython",
    "version": 3
   },
   "file_extension": ".py",
   "mimetype": "text/x-python",
   "name": "python",
   "nbconvert_exporter": "python",
   "pygments_lexer": "ipython3",
   "version": "3.9.17"
  },
  "orig_nbformat": 4
 },
 "nbformat": 4,
 "nbformat_minor": 2
}
