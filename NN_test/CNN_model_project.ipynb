{
  "nbformat": 4,
  "nbformat_minor": 0,
  "metadata": {
    "colab": {
      "provenance": [],
      "gpuType": "T4"
    },
    "kernelspec": {
      "name": "python3",
      "display_name": "Python 3"
    },
    "language_info": {
      "name": "python"
    },
    "accelerator": "GPU"
  },
  "cells": [
    {
      "cell_type": "code",
      "execution_count": 1,
      "metadata": {
        "id": "UBMdVF9JIj9s"
      },
      "outputs": [],
      "source": [
        "import tensorflow as tf\n",
        "from tensorflow import keras\n",
        "from tensorflow.keras import datasets\n",
        "from keras.models import Sequential\n",
        "from tensorflow.keras.layers import Dense, Flatten, Conv2D, MaxPooling2D, Dropout, BatchNormalization, LeakyReLU, Activation\n",
        "import matplotlib.pyplot as plt\n",
        "import numpy as np\n",
        "from sklearn.model_selection import train_test_split"
      ]
    },
    {
      "cell_type": "code",
      "source": [
        "(x_train, y_train), (x_test, y_test) = datasets.cifar10.load_data()\n",
        "\n",
        "print('x_train shape:', x_train.shape)\n",
        "print('y_train shape:', y_train.shape)\n",
        "print(x_train.shape[0], 'train samples')\n",
        "print(x_test.shape[0], 'test samples')"
      ],
      "metadata": {
        "id": "3z0SYk-PI8sM",
        "colab": {
          "base_uri": "https://localhost:8080/"
        },
        "outputId": "db9e2caf-9560-47ab-aa05-b14080ced693"
      },
      "execution_count": 2,
      "outputs": [
        {
          "output_type": "stream",
          "name": "stdout",
          "text": [
            "Downloading data from https://www.cs.toronto.edu/~kriz/cifar-10-python.tar.gz\n",
            "170498071/170498071 [==============================] - 13s 0us/step\n",
            "x_train shape: (50000, 32, 32, 3)\n",
            "y_train shape: (50000, 1)\n",
            "50000 train samples\n",
            "10000 test samples\n"
          ]
        }
      ]
    },
    {
      "cell_type": "code",
      "source": [
        "x_train, x_val, y_train, y_val = train_test_split(x_train, y_train, test_size = 0.3, random_state = 42)\n",
        "\n",
        "x_train.shape, x_val.shape, y_train.shape, y_val.shape"
      ],
      "metadata": {
        "colab": {
          "base_uri": "https://localhost:8080/"
        },
        "id": "WDMf88jBrJit",
        "outputId": "41138fe7-37da-41f8-eee7-ca6f51632449"
      },
      "execution_count": 3,
      "outputs": [
        {
          "output_type": "execute_result",
          "data": {
            "text/plain": [
              "((35000, 32, 32, 3), (15000, 32, 32, 3), (35000, 1), (15000, 1))"
            ]
          },
          "metadata": {},
          "execution_count": 3
        }
      ]
    },
    {
      "cell_type": "code",
      "source": [
        "# Convert class vectors to binary class matrices. This is called one hot encoding.\n",
        "num_classes = 10\n",
        "\n",
        "y_train = keras.utils.to_categorical(y_train, num_classes)\n",
        "y_test = keras.utils.to_categorical(y_test, num_classes)\n",
        "y_val = keras.utils.to_categorical(y_val, num_classes)\n",
        "print(y_train.shape, y_val.shape)"
      ],
      "metadata": {
        "colab": {
          "base_uri": "https://localhost:8080/"
        },
        "id": "qIWcK4JsW-HZ",
        "outputId": "f535ccdf-331c-4ad8-8863-647cef062502"
      },
      "execution_count": 4,
      "outputs": [
        {
          "output_type": "stream",
          "name": "stdout",
          "text": [
            "(35000, 10) (15000, 10)\n"
          ]
        }
      ]
    },
    {
      "cell_type": "code",
      "source": [
        "# Normalize the data. Before we need to convert data type to float for computation.\n",
        "x_train = x_train.astype('float32')\n",
        "x_test = x_test.astype('float32')\n",
        "\n",
        "x_train /= 255\n",
        "x_test /= 255"
      ],
      "metadata": {
        "id": "MdjFgE6K1nCQ"
      },
      "execution_count": 5,
      "outputs": []
    },
    {
      "cell_type": "code",
      "source": [
        "print(x_train.shape)\n",
        "print(y_train.shape)"
      ],
      "metadata": {
        "colab": {
          "base_uri": "https://localhost:8080/"
        },
        "id": "dBeizv963fPA",
        "outputId": "402ea6bc-322c-4afc-e7db-936f96e1631e"
      },
      "execution_count": 6,
      "outputs": [
        {
          "output_type": "stream",
          "name": "stdout",
          "text": [
            "(35000, 32, 32, 3)\n",
            "(35000, 10)\n"
          ]
        }
      ]
    },
    {
      "cell_type": "code",
      "source": [
        "def custom_leaky_relu(x):\n",
        "    return LeakyReLU(0.1)(x)\n",
        "\n",
        "model = Sequential()\n",
        "\n",
        "model.add(Conv2D(32, (3, 3), input_shape=(32, 32, 3)))\n",
        "model.add(BatchNormalization())\n",
        "model.add(Activation(custom_leaky_relu))\n",
        "\n",
        "model.add(Conv2D(64, (3, 3)))\n",
        "model.add(BatchNormalization())\n",
        "model.add(Activation(custom_leaky_relu))\n",
        "\n",
        "model.add(MaxPooling2D(pool_size=(2, 2)))\n",
        "\n",
        "model.add(Conv2D(128, (3, 3)))\n",
        "model.add(BatchNormalization())\n",
        "model.add(Activation(custom_leaky_relu))\n",
        "\n",
        "model.add(Conv2D(256, (3, 3)))\n",
        "model.add(BatchNormalization())\n",
        "model.add(Activation(custom_leaky_relu))\n",
        "\n",
        "model.add(MaxPooling2D(pool_size=(2, 2)))\n",
        "model.add(Dropout(0.25))\n",
        "\n",
        "model.add(Conv2D(256, (3, 3)))\n",
        "model.add(BatchNormalization())\n",
        "model.add(Activation(custom_leaky_relu))\n",
        "\n",
        "model.add(Conv2D(512, (3, 3)))\n",
        "model.add(BatchNormalization())\n",
        "model.add(Activation(custom_leaky_relu))\n",
        "\n",
        "model.add(Flatten())\n",
        "\n",
        "model.add(Dense(512))\n",
        "model.add(BatchNormalization())\n",
        "model.add(Activation(custom_leaky_relu))\n",
        "model.add(Dropout(0.5))\n",
        "\n",
        "model.add(Dense(256))\n",
        "model.add(BatchNormalization())\n",
        "model.add(Activation(custom_leaky_relu))\n",
        "model.add(Dropout(0.5))\n",
        "\n",
        "model.add(Dense(10, activation='softmax'))\n",
        "model.summary()"
      ],
      "metadata": {
        "id": "uoaFeQ-znHd2",
        "colab": {
          "base_uri": "https://localhost:8080/"
        },
        "outputId": "02a86b54-9f4f-4c93-ad4b-b2ce86bbec73"
      },
      "execution_count": 8,
      "outputs": [
        {
          "output_type": "stream",
          "name": "stdout",
          "text": [
            "Model: \"sequential_1\"\n",
            "_________________________________________________________________\n",
            " Layer (type)                Output Shape              Param #   \n",
            "=================================================================\n",
            " conv2d_6 (Conv2D)           (None, 30, 30, 32)        896       \n",
            "                                                                 \n",
            " batch_normalization_8 (Batc  (None, 30, 30, 32)       128       \n",
            " hNormalization)                                                 \n",
            "                                                                 \n",
            " activation_8 (Activation)   (None, 30, 30, 32)        0         \n",
            "                                                                 \n",
            " conv2d_7 (Conv2D)           (None, 28, 28, 64)        18496     \n",
            "                                                                 \n",
            " batch_normalization_9 (Batc  (None, 28, 28, 64)       256       \n",
            " hNormalization)                                                 \n",
            "                                                                 \n",
            " activation_9 (Activation)   (None, 28, 28, 64)        0         \n",
            "                                                                 \n",
            " max_pooling2d_2 (MaxPooling  (None, 14, 14, 64)       0         \n",
            " 2D)                                                             \n",
            "                                                                 \n",
            " conv2d_8 (Conv2D)           (None, 12, 12, 128)       73856     \n",
            "                                                                 \n",
            " batch_normalization_10 (Bat  (None, 12, 12, 128)      512       \n",
            " chNormalization)                                                \n",
            "                                                                 \n",
            " activation_10 (Activation)  (None, 12, 12, 128)       0         \n",
            "                                                                 \n",
            " conv2d_9 (Conv2D)           (None, 10, 10, 256)       295168    \n",
            "                                                                 \n",
            " batch_normalization_11 (Bat  (None, 10, 10, 256)      1024      \n",
            " chNormalization)                                                \n",
            "                                                                 \n",
            " activation_11 (Activation)  (None, 10, 10, 256)       0         \n",
            "                                                                 \n",
            " max_pooling2d_3 (MaxPooling  (None, 5, 5, 256)        0         \n",
            " 2D)                                                             \n",
            "                                                                 \n",
            " dropout_3 (Dropout)         (None, 5, 5, 256)         0         \n",
            "                                                                 \n",
            " conv2d_10 (Conv2D)          (None, 3, 3, 256)         590080    \n",
            "                                                                 \n",
            " batch_normalization_12 (Bat  (None, 3, 3, 256)        1024      \n",
            " chNormalization)                                                \n",
            "                                                                 \n",
            " activation_12 (Activation)  (None, 3, 3, 256)         0         \n",
            "                                                                 \n",
            " conv2d_11 (Conv2D)          (None, 1, 1, 512)         1180160   \n",
            "                                                                 \n",
            " batch_normalization_13 (Bat  (None, 1, 1, 512)        2048      \n",
            " chNormalization)                                                \n",
            "                                                                 \n",
            " activation_13 (Activation)  (None, 1, 1, 512)         0         \n",
            "                                                                 \n",
            " flatten_1 (Flatten)         (None, 512)               0         \n",
            "                                                                 \n",
            " dense_3 (Dense)             (None, 512)               262656    \n",
            "                                                                 \n",
            " batch_normalization_14 (Bat  (None, 512)              2048      \n",
            " chNormalization)                                                \n",
            "                                                                 \n",
            " activation_14 (Activation)  (None, 512)               0         \n",
            "                                                                 \n",
            " dropout_4 (Dropout)         (None, 512)               0         \n",
            "                                                                 \n",
            " dense_4 (Dense)             (None, 256)               131328    \n",
            "                                                                 \n",
            " batch_normalization_15 (Bat  (None, 256)              1024      \n",
            " chNormalization)                                                \n",
            "                                                                 \n",
            " activation_15 (Activation)  (None, 256)               0         \n",
            "                                                                 \n",
            " dropout_5 (Dropout)         (None, 256)               0         \n",
            "                                                                 \n",
            " dense_5 (Dense)             (None, 10)                2570      \n",
            "                                                                 \n",
            "=================================================================\n",
            "Total params: 2,563,274\n",
            "Trainable params: 2,559,242\n",
            "Non-trainable params: 4,032\n",
            "_________________________________________________________________\n"
          ]
        }
      ]
    },
    {
      "cell_type": "code",
      "source": [
        "from tensorflow.keras.optimizers import Adam\n",
        "\n",
        "optimizer = Adam(learning_rate=0.001)\n",
        "\n",
        "model.compile(optimizer=optimizer,\n",
        "              loss='categorical_crossentropy',\n",
        "              metrics=['accuracy'])"
      ],
      "metadata": {
        "id": "ciVsgv3vdmaK"
      },
      "execution_count": 9,
      "outputs": []
    },
    {
      "cell_type": "code",
      "source": [
        "from tensorflow.keras.callbacks import ReduceLROnPlateau\n",
        "from tensorflow.keras.preprocessing.image import ImageDataGenerator\n",
        "\n",
        "datagen = ImageDataGenerator(\n",
        "    rotation_range=15,\n",
        "    width_shift_range=0.1,\n",
        "    height_shift_range=0.1,\n",
        "    horizontal_flip=True,\n",
        "    validation_split=0.3\n",
        ")\n",
        "\n",
        "datagen.fit(x_train)\n",
        "\n",
        "\n",
        "history = model.fit(\n",
        "    datagen.flow(x_train, y_train, batch_size=128, subset='training'),\n",
        "    epochs=60,\n",
        "    validation_data=datagen.flow(x_train, y_train, batch_size=128)\n",
        ")"
      ],
      "metadata": {
        "colab": {
          "base_uri": "https://localhost:8080/"
        },
        "id": "1iFlMt3FrUzQ",
        "outputId": "e3f368cc-e7cf-405c-a32f-9da5c0ca7bc8"
      },
      "execution_count": 10,
      "outputs": [
        {
          "output_type": "stream",
          "name": "stdout",
          "text": [
            "Epoch 1/60\n",
            "192/192 [==============================] - 53s 192ms/step - loss: 1.8701 - accuracy: 0.3465 - val_loss: 4.1077 - val_accuracy: 0.1012\n",
            "Epoch 2/60\n",
            "192/192 [==============================] - 35s 182ms/step - loss: 1.3934 - accuracy: 0.5008 - val_loss: 2.6468 - val_accuracy: 0.2356\n",
            "Epoch 3/60\n",
            "192/192 [==============================] - 35s 183ms/step - loss: 1.2027 - accuracy: 0.5716 - val_loss: 1.7284 - val_accuracy: 0.4293\n",
            "Epoch 4/60\n",
            "192/192 [==============================] - 35s 182ms/step - loss: 1.0810 - accuracy: 0.6184 - val_loss: 1.1705 - val_accuracy: 0.5905\n",
            "Epoch 5/60\n",
            "192/192 [==============================] - 35s 183ms/step - loss: 0.9873 - accuracy: 0.6560 - val_loss: 1.0123 - val_accuracy: 0.6443\n",
            "Epoch 6/60\n",
            "192/192 [==============================] - 35s 184ms/step - loss: 0.9174 - accuracy: 0.6798 - val_loss: 0.9612 - val_accuracy: 0.6599\n",
            "Epoch 7/60\n",
            "192/192 [==============================] - 35s 182ms/step - loss: 0.8655 - accuracy: 0.6983 - val_loss: 1.1176 - val_accuracy: 0.6172\n",
            "Epoch 8/60\n",
            "192/192 [==============================] - 37s 191ms/step - loss: 0.8350 - accuracy: 0.7150 - val_loss: 0.8073 - val_accuracy: 0.7143\n",
            "Epoch 9/60\n",
            "192/192 [==============================] - 34s 178ms/step - loss: 0.7870 - accuracy: 0.7297 - val_loss: 0.9337 - val_accuracy: 0.6941\n",
            "Epoch 10/60\n",
            "192/192 [==============================] - 35s 182ms/step - loss: 0.7519 - accuracy: 0.7410 - val_loss: 1.0465 - val_accuracy: 0.6305\n",
            "Epoch 11/60\n",
            "192/192 [==============================] - 35s 185ms/step - loss: 0.7329 - accuracy: 0.7470 - val_loss: 0.8601 - val_accuracy: 0.6920\n",
            "Epoch 12/60\n",
            "192/192 [==============================] - 35s 184ms/step - loss: 0.7058 - accuracy: 0.7548 - val_loss: 0.8260 - val_accuracy: 0.7160\n",
            "Epoch 13/60\n",
            "192/192 [==============================] - 36s 186ms/step - loss: 0.6891 - accuracy: 0.7636 - val_loss: 0.7578 - val_accuracy: 0.7378\n",
            "Epoch 14/60\n",
            "192/192 [==============================] - 36s 186ms/step - loss: 0.6547 - accuracy: 0.7748 - val_loss: 0.7497 - val_accuracy: 0.7448\n",
            "Epoch 15/60\n",
            "192/192 [==============================] - 35s 184ms/step - loss: 0.6419 - accuracy: 0.7773 - val_loss: 0.8561 - val_accuracy: 0.7115\n",
            "Epoch 16/60\n",
            "192/192 [==============================] - 36s 187ms/step - loss: 0.6201 - accuracy: 0.7867 - val_loss: 0.7509 - val_accuracy: 0.7395\n",
            "Epoch 17/60\n",
            "192/192 [==============================] - 36s 187ms/step - loss: 0.6048 - accuracy: 0.7924 - val_loss: 0.7383 - val_accuracy: 0.7414\n",
            "Epoch 18/60\n",
            "192/192 [==============================] - 35s 185ms/step - loss: 0.5949 - accuracy: 0.7947 - val_loss: 0.7414 - val_accuracy: 0.7447\n",
            "Epoch 19/60\n",
            "192/192 [==============================] - 35s 183ms/step - loss: 0.5748 - accuracy: 0.8027 - val_loss: 0.7234 - val_accuracy: 0.7491\n",
            "Epoch 20/60\n",
            "192/192 [==============================] - 35s 182ms/step - loss: 0.5580 - accuracy: 0.8087 - val_loss: 0.6128 - val_accuracy: 0.7850\n",
            "Epoch 21/60\n",
            "192/192 [==============================] - 34s 177ms/step - loss: 0.5377 - accuracy: 0.8158 - val_loss: 0.8116 - val_accuracy: 0.7338\n",
            "Epoch 22/60\n",
            "192/192 [==============================] - 35s 182ms/step - loss: 0.5293 - accuracy: 0.8157 - val_loss: 0.6369 - val_accuracy: 0.7775\n",
            "Epoch 23/60\n",
            "192/192 [==============================] - 34s 180ms/step - loss: 0.5195 - accuracy: 0.8206 - val_loss: 0.5451 - val_accuracy: 0.8090\n",
            "Epoch 24/60\n",
            "192/192 [==============================] - 34s 180ms/step - loss: 0.5022 - accuracy: 0.8252 - val_loss: 0.6030 - val_accuracy: 0.7897\n",
            "Epoch 25/60\n",
            "192/192 [==============================] - 39s 202ms/step - loss: 0.4954 - accuracy: 0.8304 - val_loss: 0.5034 - val_accuracy: 0.8213\n",
            "Epoch 26/60\n",
            "192/192 [==============================] - 36s 188ms/step - loss: 0.4744 - accuracy: 0.8359 - val_loss: 0.9447 - val_accuracy: 0.7049\n",
            "Epoch 27/60\n",
            "192/192 [==============================] - 34s 175ms/step - loss: 0.4612 - accuracy: 0.8404 - val_loss: 0.7623 - val_accuracy: 0.7505\n",
            "Epoch 28/60\n",
            "192/192 [==============================] - 35s 182ms/step - loss: 0.4679 - accuracy: 0.8381 - val_loss: 0.5648 - val_accuracy: 0.8032\n",
            "Epoch 29/60\n",
            "192/192 [==============================] - 35s 180ms/step - loss: 0.4485 - accuracy: 0.8446 - val_loss: 0.6269 - val_accuracy: 0.7801\n",
            "Epoch 30/60\n",
            "192/192 [==============================] - 35s 181ms/step - loss: 0.4327 - accuracy: 0.8501 - val_loss: 0.6262 - val_accuracy: 0.7889\n",
            "Epoch 31/60\n",
            "192/192 [==============================] - 35s 180ms/step - loss: 0.4300 - accuracy: 0.8509 - val_loss: 0.8083 - val_accuracy: 0.7343\n",
            "Epoch 32/60\n",
            "192/192 [==============================] - 34s 176ms/step - loss: 0.4130 - accuracy: 0.8569 - val_loss: 0.5092 - val_accuracy: 0.8261\n",
            "Epoch 33/60\n",
            "192/192 [==============================] - 35s 182ms/step - loss: 0.4108 - accuracy: 0.8570 - val_loss: 0.6155 - val_accuracy: 0.7916\n",
            "Epoch 34/60\n",
            "192/192 [==============================] - 34s 179ms/step - loss: 0.4026 - accuracy: 0.8608 - val_loss: 0.4400 - val_accuracy: 0.8467\n",
            "Epoch 35/60\n",
            "192/192 [==============================] - 34s 177ms/step - loss: 0.3938 - accuracy: 0.8630 - val_loss: 0.5389 - val_accuracy: 0.8154\n",
            "Epoch 36/60\n",
            "192/192 [==============================] - 34s 177ms/step - loss: 0.3846 - accuracy: 0.8672 - val_loss: 0.5886 - val_accuracy: 0.7941\n",
            "Epoch 37/60\n",
            "192/192 [==============================] - 35s 181ms/step - loss: 0.3732 - accuracy: 0.8706 - val_loss: 0.8974 - val_accuracy: 0.7206\n",
            "Epoch 38/60\n",
            "192/192 [==============================] - 35s 180ms/step - loss: 0.3644 - accuracy: 0.8733 - val_loss: 0.4143 - val_accuracy: 0.8548\n",
            "Epoch 39/60\n",
            "192/192 [==============================] - 35s 181ms/step - loss: 0.3589 - accuracy: 0.8777 - val_loss: 0.4385 - val_accuracy: 0.8499\n",
            "Epoch 40/60\n",
            "192/192 [==============================] - 34s 177ms/step - loss: 0.3540 - accuracy: 0.8788 - val_loss: 0.4434 - val_accuracy: 0.8455\n",
            "Epoch 41/60\n",
            "192/192 [==============================] - 34s 180ms/step - loss: 0.3479 - accuracy: 0.8800 - val_loss: 0.4272 - val_accuracy: 0.8517\n",
            "Epoch 42/60\n",
            "192/192 [==============================] - 34s 175ms/step - loss: 0.3332 - accuracy: 0.8838 - val_loss: 0.4446 - val_accuracy: 0.8493\n",
            "Epoch 43/60\n",
            "192/192 [==============================] - 35s 182ms/step - loss: 0.3339 - accuracy: 0.8830 - val_loss: 0.4230 - val_accuracy: 0.8559\n",
            "Epoch 44/60\n",
            "192/192 [==============================] - 34s 179ms/step - loss: 0.3285 - accuracy: 0.8872 - val_loss: 0.4756 - val_accuracy: 0.8356\n",
            "Epoch 45/60\n",
            "192/192 [==============================] - 36s 186ms/step - loss: 0.3185 - accuracy: 0.8915 - val_loss: 0.4316 - val_accuracy: 0.8560\n",
            "Epoch 46/60\n",
            "192/192 [==============================] - 37s 192ms/step - loss: 0.3131 - accuracy: 0.8928 - val_loss: 0.4116 - val_accuracy: 0.8613\n",
            "Epoch 47/60\n",
            "192/192 [==============================] - 36s 190ms/step - loss: 0.3067 - accuracy: 0.8932 - val_loss: 0.3845 - val_accuracy: 0.8673\n",
            "Epoch 48/60\n",
            "192/192 [==============================] - 35s 185ms/step - loss: 0.2920 - accuracy: 0.8975 - val_loss: 0.4452 - val_accuracy: 0.8515\n",
            "Epoch 49/60\n",
            "192/192 [==============================] - 36s 186ms/step - loss: 0.3013 - accuracy: 0.8952 - val_loss: 0.7339 - val_accuracy: 0.7701\n",
            "Epoch 50/60\n",
            "192/192 [==============================] - 37s 191ms/step - loss: 0.3032 - accuracy: 0.8952 - val_loss: 0.5546 - val_accuracy: 0.8267\n",
            "Epoch 51/60\n",
            "192/192 [==============================] - 36s 187ms/step - loss: 0.2862 - accuracy: 0.9020 - val_loss: 0.3659 - val_accuracy: 0.8774\n",
            "Epoch 52/60\n",
            "192/192 [==============================] - 36s 187ms/step - loss: 0.2900 - accuracy: 0.9004 - val_loss: 0.3788 - val_accuracy: 0.8739\n",
            "Epoch 53/60\n",
            "192/192 [==============================] - 37s 191ms/step - loss: 0.2744 - accuracy: 0.9035 - val_loss: 0.4044 - val_accuracy: 0.8675\n",
            "Epoch 54/60\n",
            "192/192 [==============================] - 37s 192ms/step - loss: 0.2823 - accuracy: 0.9025 - val_loss: 0.4100 - val_accuracy: 0.8669\n",
            "Epoch 55/60\n",
            "192/192 [==============================] - 37s 192ms/step - loss: 0.2654 - accuracy: 0.9066 - val_loss: 0.4056 - val_accuracy: 0.8663\n",
            "Epoch 56/60\n",
            "192/192 [==============================] - 35s 182ms/step - loss: 0.2655 - accuracy: 0.9074 - val_loss: 0.3748 - val_accuracy: 0.8775\n",
            "Epoch 57/60\n",
            "192/192 [==============================] - 35s 185ms/step - loss: 0.2493 - accuracy: 0.9139 - val_loss: 0.3050 - val_accuracy: 0.8996\n",
            "Epoch 58/60\n",
            "192/192 [==============================] - 36s 186ms/step - loss: 0.2542 - accuracy: 0.9132 - val_loss: 0.3414 - val_accuracy: 0.8844\n",
            "Epoch 59/60\n",
            "192/192 [==============================] - 35s 184ms/step - loss: 0.2527 - accuracy: 0.9147 - val_loss: 0.3628 - val_accuracy: 0.8819\n",
            "Epoch 60/60\n",
            "192/192 [==============================] - 36s 190ms/step - loss: 0.2383 - accuracy: 0.9176 - val_loss: 0.3971 - val_accuracy: 0.8727\n"
          ]
        }
      ]
    },
    {
      "cell_type": "code",
      "source": [
        "test_eval = model.evaluate(x_test, y_test, verbose=2)\n",
        "\n",
        "print('Test loss: {:.2f}%'.format(test_eval[0]))\n",
        "print('Test accuracy:{:.2f}%'.format(test_eval[1]))"
      ],
      "metadata": {
        "colab": {
          "base_uri": "https://localhost:8080/"
        },
        "id": "rTttzjVSzY8R",
        "outputId": "69a89371-70a3-4130-ef55-2f36c415df72"
      },
      "execution_count": 11,
      "outputs": [
        {
          "output_type": "stream",
          "name": "stdout",
          "text": [
            "313/313 - 2s - loss: 0.5529 - accuracy: 0.8370 - 2s/epoch - 5ms/step\n",
            "Test loss: 0.55%\n",
            "Test accuracy:0.84%\n"
          ]
        }
      ]
    },
    {
      "cell_type": "code",
      "source": [
        "train_eval = model.evaluate(x_train, y_train, verbose=2)\n",
        "\n",
        "print('Val loss:{:.2f}%'.format(train_eval[0]))\n",
        "print('Val accuracy:{:.2f}%'.format(train_eval[1]))"
      ],
      "metadata": {
        "colab": {
          "base_uri": "https://localhost:8080/"
        },
        "id": "cyU39GDFpGUg",
        "outputId": "0103f330-67ed-4e85-ceaf-ef3ec8e75ef4"
      },
      "execution_count": 12,
      "outputs": [
        {
          "output_type": "stream",
          "name": "stdout",
          "text": [
            "1094/1094 - 5s - loss: 0.2670 - accuracy: 0.9128 - 5s/epoch - 4ms/step\n",
            "Val loss:0.27%\n",
            "Val accuracy:0.91%\n"
          ]
        }
      ]
    },
    {
      "cell_type": "code",
      "source": [
        "def plotmodelhistory(history):\n",
        "    fig, axs = plt.subplots(1,2,figsize=(15,5))\n",
        "    # summarize history for accuracy\n",
        "    axs[0].plot(history.history['accuracy'])\n",
        "    axs[0].plot(history.history['val_accuracy'])\n",
        "    axs[0].set_title('Model Accuracy')\n",
        "    axs[0].set_ylabel('Accuracy')\n",
        "    axs[0].set_xlabel('Epoch')\n",
        "    axs[0].legend(['train', 'validate'], loc='upper left')\n",
        "    # summarize history for loss\n",
        "    axs[1].plot(history.history['loss'])\n",
        "    axs[1].plot(history.history['val_loss'])\n",
        "    axs[1].set_title('Model Loss')\n",
        "    axs[1].set_ylabel('Loss')\n",
        "    axs[1].set_xlabel('Epoch')\n",
        "    axs[1].legend(['train', 'validate'], loc='upper left')\n",
        "    plt.show()\n",
        "\n",
        "# list all data in history\n",
        "print(history.history.keys())\n",
        "\n",
        "plotmodelhistory(history)"
      ],
      "metadata": {
        "colab": {
          "base_uri": "https://localhost:8080/",
          "height": 504
        },
        "id": "_j4ZhaLaqzwR",
        "outputId": "6ae13d73-21b4-4483-cfbd-8a2f725307e9"
      },
      "execution_count": 13,
      "outputs": [
        {
          "output_type": "stream",
          "name": "stdout",
          "text": [
            "dict_keys(['loss', 'accuracy', 'val_loss', 'val_accuracy'])\n"
          ]
        },
        {
          "output_type": "display_data",
          "data": {
            "text/plain": [
              "<Figure size 1500x500 with 2 Axes>"
            ],
            "image/png": "[encoded data removed]"
          },
          "metadata": {}
        }
      ]
    }
  ]
}